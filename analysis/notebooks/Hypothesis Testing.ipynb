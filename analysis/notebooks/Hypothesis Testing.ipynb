{
 "cells": [
  {
   "cell_type": "code",
   "execution_count": 3,
   "id": "458a6e18-642f-4711-a90b-1b28f8cdaa7d",
   "metadata": {},
   "outputs": [
    {
     "name": "stderr",
     "output_type": "stream",
     "text": [
      "/tmp/ipykernel_145477/4080736814.py:1: DeprecationWarning: \n",
      "Pyarrow will become a required dependency of pandas in the next major release of pandas (pandas 3.0),\n",
      "(to allow more performant data types, such as the Arrow string type, and better interoperability with other libraries)\n",
      "but was not found to be installed on your system.\n",
      "If this would cause problems for you,\n",
      "please provide us feedback at https://github.com/pandas-dev/pandas/issues/54466\n",
      "        \n",
      "  import pandas as pd\n"
     ]
    }
   ],
   "source": [
    "import pandas as pd"
   ]
  },
  {
   "cell_type": "code",
   "execution_count": 4,
   "id": "94058744-7e37-4c96-a5df-db1225944e3a",
   "metadata": {},
   "outputs": [
    {
     "data": {
      "text/html": [
       "<div>\n",
       "<style scoped>\n",
       "    .dataframe tbody tr th:only-of-type {\n",
       "        vertical-align: middle;\n",
       "    }\n",
       "\n",
       "    .dataframe tbody tr th {\n",
       "        vertical-align: top;\n",
       "    }\n",
       "\n",
       "    .dataframe thead th {\n",
       "        text-align: right;\n",
       "    }\n",
       "</style>\n",
       "<table border=\"1\" class=\"dataframe\">\n",
       "  <thead>\n",
       "    <tr style=\"text-align: right;\">\n",
       "      <th></th>\n",
       "      <th>id</th>\n",
       "      <th>brand</th>\n",
       "      <th>name</th>\n",
       "      <th>type</th>\n",
       "      <th>network_technology</th>\n",
       "      <th>length</th>\n",
       "      <th>width</th>\n",
       "      <th>height</th>\n",
       "      <th>weight</th>\n",
       "      <th>resolution_l</th>\n",
       "      <th>...</th>\n",
       "      <th>sim_count</th>\n",
       "      <th>os_type</th>\n",
       "      <th>os_version</th>\n",
       "      <th>price</th>\n",
       "      <th>released_date</th>\n",
       "      <th>cpu_core</th>\n",
       "      <th>ram</th>\n",
       "      <th>internal_storage</th>\n",
       "      <th>fan_count</th>\n",
       "      <th>view_count</th>\n",
       "    </tr>\n",
       "  </thead>\n",
       "  <tbody>\n",
       "    <tr>\n",
       "      <th>0</th>\n",
       "      <td>1</td>\n",
       "      <td>INFINIX</td>\n",
       "      <td>Infinix S3X</td>\n",
       "      <td>phone</td>\n",
       "      <td>4G</td>\n",
       "      <td>156.7</td>\n",
       "      <td>75.3</td>\n",
       "      <td>8.0</td>\n",
       "      <td>150.0</td>\n",
       "      <td>720.0</td>\n",
       "      <td>...</td>\n",
       "      <td>2.0</td>\n",
       "      <td>Android</td>\n",
       "      <td>8.1</td>\n",
       "      <td>NaN</td>\n",
       "      <td>2018.0</td>\n",
       "      <td>8.0</td>\n",
       "      <td>3GB</td>\n",
       "      <td>32GB</td>\n",
       "      <td>10</td>\n",
       "      <td>485</td>\n",
       "    </tr>\n",
       "    <tr>\n",
       "      <th>1</th>\n",
       "      <td>2</td>\n",
       "      <td>INFINIX</td>\n",
       "      <td>Infinix Note 5 Stylus</td>\n",
       "      <td>phone</td>\n",
       "      <td>4G</td>\n",
       "      <td>158.0</td>\n",
       "      <td>75.0</td>\n",
       "      <td>8.4</td>\n",
       "      <td>173.0</td>\n",
       "      <td>1080.0</td>\n",
       "      <td>...</td>\n",
       "      <td>2.0</td>\n",
       "      <td>Android</td>\n",
       "      <td>8.1</td>\n",
       "      <td>NaN</td>\n",
       "      <td>2018.0</td>\n",
       "      <td>8.0</td>\n",
       "      <td>4GB</td>\n",
       "      <td>32GB</td>\n",
       "      <td>31</td>\n",
       "      <td>524</td>\n",
       "    </tr>\n",
       "    <tr>\n",
       "      <th>2</th>\n",
       "      <td>3</td>\n",
       "      <td>INFINIX</td>\n",
       "      <td>Infinix Hot 6X</td>\n",
       "      <td>phone</td>\n",
       "      <td>4G</td>\n",
       "      <td>157.0</td>\n",
       "      <td>75.0</td>\n",
       "      <td>8.0</td>\n",
       "      <td>168.0</td>\n",
       "      <td>720.0</td>\n",
       "      <td>...</td>\n",
       "      <td>2.0</td>\n",
       "      <td>Android</td>\n",
       "      <td>8.1</td>\n",
       "      <td>NaN</td>\n",
       "      <td>2018.0</td>\n",
       "      <td>8.0</td>\n",
       "      <td>2GB</td>\n",
       "      <td>16GB</td>\n",
       "      <td>11</td>\n",
       "      <td>736</td>\n",
       "    </tr>\n",
       "    <tr>\n",
       "      <th>3</th>\n",
       "      <td>4</td>\n",
       "      <td>INFINIX</td>\n",
       "      <td>Infinix Smart 2 HD</td>\n",
       "      <td>phone</td>\n",
       "      <td>3G</td>\n",
       "      <td>156.9</td>\n",
       "      <td>76.5</td>\n",
       "      <td>8.2</td>\n",
       "      <td>165.0</td>\n",
       "      <td>720.0</td>\n",
       "      <td>...</td>\n",
       "      <td>2.0</td>\n",
       "      <td>Android</td>\n",
       "      <td>8.1</td>\n",
       "      <td>NaN</td>\n",
       "      <td>2018.0</td>\n",
       "      <td>8.0</td>\n",
       "      <td>1GB</td>\n",
       "      <td>16GB</td>\n",
       "      <td>1</td>\n",
       "      <td>335</td>\n",
       "    </tr>\n",
       "    <tr>\n",
       "      <th>4</th>\n",
       "      <td>5</td>\n",
       "      <td>INFINIX</td>\n",
       "      <td>Infinix Note 5</td>\n",
       "      <td>phone</td>\n",
       "      <td>4G</td>\n",
       "      <td>158.0</td>\n",
       "      <td>75.0</td>\n",
       "      <td>8.4</td>\n",
       "      <td>173.0</td>\n",
       "      <td>1080.0</td>\n",
       "      <td>...</td>\n",
       "      <td>2.0</td>\n",
       "      <td>Android</td>\n",
       "      <td>8.1</td>\n",
       "      <td>90.0</td>\n",
       "      <td>2018.0</td>\n",
       "      <td>8.0</td>\n",
       "      <td>3GB</td>\n",
       "      <td>32GB</td>\n",
       "      <td>35</td>\n",
       "      <td>871</td>\n",
       "    </tr>\n",
       "  </tbody>\n",
       "</table>\n",
       "<p>5 rows × 27 columns</p>\n",
       "</div>"
      ],
      "text/plain": [
       "   id    brand                   name   type network_technology  length  \\\n",
       "0   1  INFINIX            Infinix S3X  phone                 4G   156.7   \n",
       "1   2  INFINIX  Infinix Note 5 Stylus  phone                 4G   158.0   \n",
       "2   3  INFINIX         Infinix Hot 6X  phone                 4G   157.0   \n",
       "3   4  INFINIX     Infinix Smart 2 HD  phone                 3G   156.9   \n",
       "4   5  INFINIX         Infinix Note 5  phone                 4G   158.0   \n",
       "\n",
       "   width  height  weight  resolution_l  ...  sim_count  os_type  os_version  \\\n",
       "0   75.3     8.0   150.0         720.0  ...        2.0  Android         8.1   \n",
       "1   75.0     8.4   173.0        1080.0  ...        2.0  Android         8.1   \n",
       "2   75.0     8.0   168.0         720.0  ...        2.0  Android         8.1   \n",
       "3   76.5     8.2   165.0         720.0  ...        2.0  Android         8.1   \n",
       "4   75.0     8.4   173.0        1080.0  ...        2.0  Android         8.1   \n",
       "\n",
       "   price released_date  cpu_core  ram  internal_storage fan_count view_count  \n",
       "0    NaN        2018.0       8.0  3GB              32GB        10        485  \n",
       "1    NaN        2018.0       8.0  4GB              32GB        31        524  \n",
       "2    NaN        2018.0       8.0  2GB              16GB        11        736  \n",
       "3    NaN        2018.0       8.0  1GB              16GB         1        335  \n",
       "4   90.0        2018.0       8.0  3GB              32GB        35        871  \n",
       "\n",
       "[5 rows x 27 columns]"
      ]
     },
     "execution_count": 4,
     "metadata": {},
     "output_type": "execute_result"
    }
   ],
   "source": [
    "df = pd.read_csv('devices_v2.csv')\n",
    "df.head()"
   ]
  },
  {
   "cell_type": "code",
   "execution_count": 8,
   "id": "a97488e6-dd3b-4b6e-8fbe-51beb13e2c6f",
   "metadata": {},
   "outputs": [
    {
     "data": {
      "text/plain": [
       "sim_count\n",
       "1.0    2709\n",
       "2.0    2400\n",
       "0.0     590\n",
       "3.0       7\n",
       "4.0       2\n",
       "Name: count, dtype: int64"
      ]
     },
     "execution_count": 8,
     "metadata": {},
     "output_type": "execute_result"
    }
   ],
   "source": [
    "df['sim_count'].value_counts()"
   ]
  },
  {
   "cell_type": "code",
   "execution_count": 12,
   "id": "2babd265-75dd-404b-98fa-149af9184796",
   "metadata": {},
   "outputs": [
    {
     "data": {
      "text/html": [
       "<div>\n",
       "<style scoped>\n",
       "    .dataframe tbody tr th:only-of-type {\n",
       "        vertical-align: middle;\n",
       "    }\n",
       "\n",
       "    .dataframe tbody tr th {\n",
       "        vertical-align: top;\n",
       "    }\n",
       "\n",
       "    .dataframe thead th {\n",
       "        text-align: right;\n",
       "    }\n",
       "</style>\n",
       "<table border=\"1\" class=\"dataframe\">\n",
       "  <thead>\n",
       "    <tr style=\"text-align: right;\">\n",
       "      <th></th>\n",
       "      <th>id</th>\n",
       "      <th>brand</th>\n",
       "      <th>name</th>\n",
       "      <th>type</th>\n",
       "      <th>network_technology</th>\n",
       "      <th>length</th>\n",
       "      <th>width</th>\n",
       "      <th>height</th>\n",
       "      <th>weight</th>\n",
       "      <th>resolution_l</th>\n",
       "      <th>...</th>\n",
       "      <th>sim_count</th>\n",
       "      <th>os_type</th>\n",
       "      <th>os_version</th>\n",
       "      <th>price</th>\n",
       "      <th>released_date</th>\n",
       "      <th>cpu_core</th>\n",
       "      <th>ram</th>\n",
       "      <th>internal_storage</th>\n",
       "      <th>fan_count</th>\n",
       "      <th>view_count</th>\n",
       "    </tr>\n",
       "  </thead>\n",
       "  <tbody>\n",
       "    <tr>\n",
       "      <th>4</th>\n",
       "      <td>5</td>\n",
       "      <td>INFINIX</td>\n",
       "      <td>Infinix Note 5</td>\n",
       "      <td>phone</td>\n",
       "      <td>4G</td>\n",
       "      <td>158.0</td>\n",
       "      <td>75.0</td>\n",
       "      <td>8.4</td>\n",
       "      <td>173.0</td>\n",
       "      <td>1080.0</td>\n",
       "      <td>...</td>\n",
       "      <td>2.0</td>\n",
       "      <td>Android</td>\n",
       "      <td>8.1</td>\n",
       "      <td>90.0</td>\n",
       "      <td>2018.0</td>\n",
       "      <td>8.0</td>\n",
       "      <td>3GB</td>\n",
       "      <td>32GB</td>\n",
       "      <td>35</td>\n",
       "      <td>871</td>\n",
       "    </tr>\n",
       "    <tr>\n",
       "      <th>25</th>\n",
       "      <td>26</td>\n",
       "      <td>INFINIX</td>\n",
       "      <td>Infinix Smart 5 Pro</td>\n",
       "      <td>phone</td>\n",
       "      <td>4G</td>\n",
       "      <td>164.4</td>\n",
       "      <td>75.6</td>\n",
       "      <td>9.5</td>\n",
       "      <td>NaN</td>\n",
       "      <td>720.0</td>\n",
       "      <td>...</td>\n",
       "      <td>2.0</td>\n",
       "      <td>Android</td>\n",
       "      <td>11</td>\n",
       "      <td>70.0</td>\n",
       "      <td>2021.0</td>\n",
       "      <td>8.0</td>\n",
       "      <td>2GB</td>\n",
       "      <td>32GB</td>\n",
       "      <td>10</td>\n",
       "      <td>311</td>\n",
       "    </tr>\n",
       "    <tr>\n",
       "      <th>26</th>\n",
       "      <td>27</td>\n",
       "      <td>INFINIX</td>\n",
       "      <td>Infinix Hot 11 Play</td>\n",
       "      <td>phone</td>\n",
       "      <td>4G</td>\n",
       "      <td>171.8</td>\n",
       "      <td>78.0</td>\n",
       "      <td>8.9</td>\n",
       "      <td>NaN</td>\n",
       "      <td>720.0</td>\n",
       "      <td>...</td>\n",
       "      <td>2.0</td>\n",
       "      <td>Android</td>\n",
       "      <td>11</td>\n",
       "      <td>120.0</td>\n",
       "      <td>2021.0</td>\n",
       "      <td>8.0</td>\n",
       "      <td>4GB</td>\n",
       "      <td>64GB</td>\n",
       "      <td>22</td>\n",
       "      <td>1</td>\n",
       "    </tr>\n",
       "    <tr>\n",
       "      <th>27</th>\n",
       "      <td>28</td>\n",
       "      <td>INFINIX</td>\n",
       "      <td>Infinix Note 11i</td>\n",
       "      <td>phone</td>\n",
       "      <td>4G</td>\n",
       "      <td>173.2</td>\n",
       "      <td>78.7</td>\n",
       "      <td>8.8</td>\n",
       "      <td>NaN</td>\n",
       "      <td>1080.0</td>\n",
       "      <td>...</td>\n",
       "      <td>2.0</td>\n",
       "      <td>Android</td>\n",
       "      <td>11</td>\n",
       "      <td>140.0</td>\n",
       "      <td>2021.0</td>\n",
       "      <td>8.0</td>\n",
       "      <td>4GB</td>\n",
       "      <td>64GB</td>\n",
       "      <td>19</td>\n",
       "      <td>267</td>\n",
       "    </tr>\n",
       "    <tr>\n",
       "      <th>28</th>\n",
       "      <td>29</td>\n",
       "      <td>INFINIX</td>\n",
       "      <td>Infinix Note 11s</td>\n",
       "      <td>phone</td>\n",
       "      <td>4G</td>\n",
       "      <td>173.1</td>\n",
       "      <td>78.4</td>\n",
       "      <td>8.7</td>\n",
       "      <td>NaN</td>\n",
       "      <td>1080.0</td>\n",
       "      <td>...</td>\n",
       "      <td>2.0</td>\n",
       "      <td>Android</td>\n",
       "      <td>11</td>\n",
       "      <td>180.0</td>\n",
       "      <td>2021.0</td>\n",
       "      <td>8.0</td>\n",
       "      <td>4GB</td>\n",
       "      <td>64GB</td>\n",
       "      <td>44</td>\n",
       "      <td>607</td>\n",
       "    </tr>\n",
       "  </tbody>\n",
       "</table>\n",
       "<p>5 rows × 27 columns</p>\n",
       "</div>"
      ],
      "text/plain": [
       "    id    brand                 name   type network_technology  length  width  \\\n",
       "4    5  INFINIX       Infinix Note 5  phone                 4G   158.0   75.0   \n",
       "25  26  INFINIX  Infinix Smart 5 Pro  phone                 4G   164.4   75.6   \n",
       "26  27  INFINIX  Infinix Hot 11 Play  phone                 4G   171.8   78.0   \n",
       "27  28  INFINIX     Infinix Note 11i  phone                 4G   173.2   78.7   \n",
       "28  29  INFINIX     Infinix Note 11s  phone                 4G   173.1   78.4   \n",
       "\n",
       "    height  weight  resolution_l  ...  sim_count  os_type  os_version  price  \\\n",
       "4      8.4   173.0        1080.0  ...        2.0  Android         8.1   90.0   \n",
       "25     9.5     NaN         720.0  ...        2.0  Android          11   70.0   \n",
       "26     8.9     NaN         720.0  ...        2.0  Android          11  120.0   \n",
       "27     8.8     NaN        1080.0  ...        2.0  Android          11  140.0   \n",
       "28     8.7     NaN        1080.0  ...        2.0  Android          11  180.0   \n",
       "\n",
       "   released_date  cpu_core  ram  internal_storage fan_count view_count  \n",
       "4         2018.0       8.0  3GB              32GB        35        871  \n",
       "25        2021.0       8.0  2GB              32GB        10        311  \n",
       "26        2021.0       8.0  4GB              64GB        22          1  \n",
       "27        2021.0       8.0  4GB              64GB        19        267  \n",
       "28        2021.0       8.0  4GB              64GB        44        607  \n",
       "\n",
       "[5 rows x 27 columns]"
      ]
     },
     "execution_count": 12,
     "metadata": {},
     "output_type": "execute_result"
    }
   ],
   "source": [
    "df_clean = df.dropna(subset=['price'])\n",
    "df_clean.head()"
   ]
  },
  {
   "cell_type": "markdown",
   "id": "7baa2c78-bea2-49c1-b7ae-46caed4c1aad",
   "metadata": {},
   "source": [
    "### First Question"
   ]
  },
  {
   "attachments": {},
   "cell_type": "markdown",
   "id": "d7c8cddb-414a-44c7-9bbe-06206508df8e",
   "metadata": {},
   "source": [
    "#### 1.Do mobile devices with different types of SIM cards have different prices?"
   ]
  },
  {
   "cell_type": "markdown",
   "id": "af6cf76a-ac7b-4592-9131-c92643acc76a",
   "metadata": {},
   "source": [
    "##### Null Hypothesis (H0): There is no difference in the average price of mobile devices across different SIM card configurations."
   ]
  },
  {
   "cell_type": "markdown",
   "id": "3274e323-d9b9-48bc-88b5-f0e2a1d3f393",
   "metadata": {},
   "source": [
    "##### Alternative Hypothesis (H1): There is a difference in the average price of mobile devices across different SIM card configurations."
   ]
  },
  {
   "cell_type": "code",
   "execution_count": 14,
   "id": "71d574eb-744b-4d66-9cb3-eb873564482b",
   "metadata": {},
   "outputs": [
    {
     "name": "stderr",
     "output_type": "stream",
     "text": [
      "/tmp/ipykernel_138548/539397305.py:1: SettingWithCopyWarning: \n",
      "A value is trying to be set on a copy of a slice from a DataFrame.\n",
      "Try using .loc[row_indexer,col_indexer] = value instead\n",
      "\n",
      "See the caveats in the documentation: https://pandas.pydata.org/pandas-docs/stable/user_guide/indexing.html#returning-a-view-versus-a-copy\n",
      "  df_clean['sim_count'] = df_clean['sim_count'].astype('category')\n"
     ]
    },
    {
     "data": {
      "text/plain": [
       "4       2.0\n",
       "25      2.0\n",
       "26      2.0\n",
       "27      2.0\n",
       "28      2.0\n",
       "       ... \n",
       "5667    2.0\n",
       "5669    1.0\n",
       "5672    1.0\n",
       "5685    1.0\n",
       "5686    1.0\n",
       "Name: sim_count, Length: 4364, dtype: category\n",
       "Categories (5, float64): [0.0, 1.0, 2.0, 3.0, 4.0]"
      ]
     },
     "execution_count": 14,
     "metadata": {},
     "output_type": "execute_result"
    }
   ],
   "source": [
    "df_clean['sim_count'] = df_clean['sim_count'].astype('category')\n",
    "df_clean['sim_count']"
   ]
  },
  {
   "cell_type": "code",
   "execution_count": 21,
   "id": "c2ad9d4e-e72a-49f5-82cb-d96cb5c8b745",
   "metadata": {},
   "outputs": [],
   "source": [
    "from scipy.stats import f_oneway"
   ]
  },
  {
   "cell_type": "code",
   "execution_count": 22,
   "id": "d2613ab2-c919-4a77-a836-bb921bc20eaa",
   "metadata": {},
   "outputs": [
    {
     "name": "stderr",
     "output_type": "stream",
     "text": [
      "/tmp/ipykernel_138548/2781704084.py:1: FutureWarning: The default of observed=False is deprecated and will be changed to True in a future version of pandas. Pass observed=False to retain current behavior or observed=True to adopt the future default and silence this warning.\n",
      "  groups = df_clean.groupby('sim_count')['price'].apply(list)\n"
     ]
    },
    {
     "data": {
      "text/plain": [
       "sim_count\n",
       "0.0    [80.0, 100.0, 80.0, 130.0, 100.0, 110.0, 80.0,...\n",
       "1.0    [250.0, 130.0, 80.0, 120.0, 130.0, 60.0, 90.0,...\n",
       "2.0    [90.0, 70.0, 120.0, 140.0, 180.0, 100.0, 100.0...\n",
       "3.0                     [90.0, 90.0, 100.0, 60.0, 120.0]\n",
       "4.0                                               [90.0]\n",
       "Name: price, dtype: object"
      ]
     },
     "execution_count": 22,
     "metadata": {},
     "output_type": "execute_result"
    }
   ],
   "source": [
    "groups = df_clean.groupby('sim_count')['price'].apply(list)\n",
    "groups"
   ]
  },
  {
   "cell_type": "code",
   "execution_count": 23,
   "id": "7071523a-2ec5-4536-8daa-c9dd8a4dfdfa",
   "metadata": {},
   "outputs": [
    {
     "name": "stdout",
     "output_type": "stream",
     "text": [
      "F-statistic: 9.354801394260056, p-value: 1.586215872255128e-07\n"
     ]
    }
   ],
   "source": [
    "anova_result = f_oneway(*groups)\n",
    "print(f\"F-statistic: {anova_result.statistic}, p-value: {anova_result.pvalue}\")"
   ]
  },
  {
   "cell_type": "markdown",
   "id": "0156ef54-4b6e-42bd-bb07-2d82be26faff",
   "metadata": {},
   "source": [
    "##### Assume α=0.05, as p-value indicates it is less than that which leads to the rejection of null hypothesis."
   ]
  },
  {
   "cell_type": "markdown",
   "id": "3a7c54c3-8d1a-48be-b16e-d4d4dbc65928",
   "metadata": {},
   "source": [
    "#### 2.Do mobile devices with different sizes have different prices?"
   ]
  },
  {
   "cell_type": "markdown",
   "id": "0af8e173-a8e3-490c-bc0e-e42403697969",
   "metadata": {},
   "source": [
    "##### Let's consider \"weight\" as a proxy for size.\n",
    "##### Assuming that heavier devices might be larger or more feature-rich, potentially affecting their price."
   ]
  },
  {
   "cell_type": "code",
   "execution_count": 25,
   "id": "e8d13942-81d4-4006-a906-f49444bb4732",
   "metadata": {},
   "outputs": [
    {
     "data": {
      "text/html": [
       "<div>\n",
       "<style scoped>\n",
       "    .dataframe tbody tr th:only-of-type {\n",
       "        vertical-align: middle;\n",
       "    }\n",
       "\n",
       "    .dataframe tbody tr th {\n",
       "        vertical-align: top;\n",
       "    }\n",
       "\n",
       "    .dataframe thead th {\n",
       "        text-align: right;\n",
       "    }\n",
       "</style>\n",
       "<table border=\"1\" class=\"dataframe\">\n",
       "  <thead>\n",
       "    <tr style=\"text-align: right;\">\n",
       "      <th></th>\n",
       "      <th>id</th>\n",
       "      <th>brand</th>\n",
       "      <th>name</th>\n",
       "      <th>type</th>\n",
       "      <th>network_technology</th>\n",
       "      <th>length</th>\n",
       "      <th>width</th>\n",
       "      <th>height</th>\n",
       "      <th>weight</th>\n",
       "      <th>resolution_l</th>\n",
       "      <th>...</th>\n",
       "      <th>sim_count</th>\n",
       "      <th>os_type</th>\n",
       "      <th>os_version</th>\n",
       "      <th>price</th>\n",
       "      <th>released_date</th>\n",
       "      <th>cpu_core</th>\n",
       "      <th>ram</th>\n",
       "      <th>internal_storage</th>\n",
       "      <th>fan_count</th>\n",
       "      <th>view_count</th>\n",
       "    </tr>\n",
       "  </thead>\n",
       "  <tbody>\n",
       "    <tr>\n",
       "      <th>4</th>\n",
       "      <td>5</td>\n",
       "      <td>INFINIX</td>\n",
       "      <td>Infinix Note 5</td>\n",
       "      <td>phone</td>\n",
       "      <td>4G</td>\n",
       "      <td>158.0</td>\n",
       "      <td>75.0</td>\n",
       "      <td>8.4</td>\n",
       "      <td>173.0</td>\n",
       "      <td>1080.0</td>\n",
       "      <td>...</td>\n",
       "      <td>2.0</td>\n",
       "      <td>Android</td>\n",
       "      <td>8.1</td>\n",
       "      <td>90.00</td>\n",
       "      <td>2018.0</td>\n",
       "      <td>8.0</td>\n",
       "      <td>3GB</td>\n",
       "      <td>32GB</td>\n",
       "      <td>35</td>\n",
       "      <td>871</td>\n",
       "    </tr>\n",
       "    <tr>\n",
       "      <th>29</th>\n",
       "      <td>30</td>\n",
       "      <td>INFINIX</td>\n",
       "      <td>Infinix Note 11</td>\n",
       "      <td>phone</td>\n",
       "      <td>4G</td>\n",
       "      <td>164.4</td>\n",
       "      <td>76.7</td>\n",
       "      <td>7.9</td>\n",
       "      <td>184.0</td>\n",
       "      <td>1080.0</td>\n",
       "      <td>...</td>\n",
       "      <td>2.0</td>\n",
       "      <td>Android</td>\n",
       "      <td>11</td>\n",
       "      <td>100.00</td>\n",
       "      <td>2021.0</td>\n",
       "      <td>8.0</td>\n",
       "      <td>4GB</td>\n",
       "      <td>64GB</td>\n",
       "      <td>61</td>\n",
       "      <td>1</td>\n",
       "    </tr>\n",
       "    <tr>\n",
       "      <th>32</th>\n",
       "      <td>33</td>\n",
       "      <td>INFINIX</td>\n",
       "      <td>Infinix Hot 11s</td>\n",
       "      <td>phone</td>\n",
       "      <td>4G</td>\n",
       "      <td>168.9</td>\n",
       "      <td>77.0</td>\n",
       "      <td>8.8</td>\n",
       "      <td>205.0</td>\n",
       "      <td>1080.0</td>\n",
       "      <td>...</td>\n",
       "      <td>2.0</td>\n",
       "      <td>Android</td>\n",
       "      <td>11</td>\n",
       "      <td>917245.60</td>\n",
       "      <td>2021.0</td>\n",
       "      <td>8.0</td>\n",
       "      <td>4GB</td>\n",
       "      <td>64GB</td>\n",
       "      <td>64</td>\n",
       "      <td>1</td>\n",
       "    </tr>\n",
       "    <tr>\n",
       "      <th>33</th>\n",
       "      <td>34</td>\n",
       "      <td>INFINIX</td>\n",
       "      <td>Infinix Hot 11</td>\n",
       "      <td>phone</td>\n",
       "      <td>4G</td>\n",
       "      <td>164.7</td>\n",
       "      <td>76.2</td>\n",
       "      <td>8.9</td>\n",
       "      <td>201.0</td>\n",
       "      <td>1080.0</td>\n",
       "      <td>...</td>\n",
       "      <td>2.0</td>\n",
       "      <td>Android</td>\n",
       "      <td>11</td>\n",
       "      <td>110.00</td>\n",
       "      <td>2021.0</td>\n",
       "      <td>8.0</td>\n",
       "      <td>4GB</td>\n",
       "      <td>64GB</td>\n",
       "      <td>26</td>\n",
       "      <td>1</td>\n",
       "    </tr>\n",
       "    <tr>\n",
       "      <th>34</th>\n",
       "      <td>35</td>\n",
       "      <td>INFINIX</td>\n",
       "      <td>Infinix Zero X Pro</td>\n",
       "      <td>phone</td>\n",
       "      <td>4G</td>\n",
       "      <td>164.1</td>\n",
       "      <td>75.7</td>\n",
       "      <td>7.8</td>\n",
       "      <td>193.0</td>\n",
       "      <td>1080.0</td>\n",
       "      <td>...</td>\n",
       "      <td>2.0</td>\n",
       "      <td>Android</td>\n",
       "      <td>11</td>\n",
       "      <td>220.66</td>\n",
       "      <td>2021.0</td>\n",
       "      <td>8.0</td>\n",
       "      <td>8GB</td>\n",
       "      <td>128GB</td>\n",
       "      <td>198</td>\n",
       "      <td>2</td>\n",
       "    </tr>\n",
       "  </tbody>\n",
       "</table>\n",
       "<p>5 rows × 27 columns</p>\n",
       "</div>"
      ],
      "text/plain": [
       "    id    brand                name   type network_technology  length  width  \\\n",
       "4    5  INFINIX      Infinix Note 5  phone                 4G   158.0   75.0   \n",
       "29  30  INFINIX     Infinix Note 11  phone                 4G   164.4   76.7   \n",
       "32  33  INFINIX     Infinix Hot 11s  phone                 4G   168.9   77.0   \n",
       "33  34  INFINIX      Infinix Hot 11  phone                 4G   164.7   76.2   \n",
       "34  35  INFINIX  Infinix Zero X Pro  phone                 4G   164.1   75.7   \n",
       "\n",
       "    height  weight  resolution_l  ...  sim_count  os_type  os_version  \\\n",
       "4      8.4   173.0        1080.0  ...        2.0  Android         8.1   \n",
       "29     7.9   184.0        1080.0  ...        2.0  Android          11   \n",
       "32     8.8   205.0        1080.0  ...        2.0  Android          11   \n",
       "33     8.9   201.0        1080.0  ...        2.0  Android          11   \n",
       "34     7.8   193.0        1080.0  ...        2.0  Android          11   \n",
       "\n",
       "        price released_date  cpu_core  ram  internal_storage fan_count  \\\n",
       "4       90.00        2018.0       8.0  3GB              32GB        35   \n",
       "29     100.00        2021.0       8.0  4GB              64GB        61   \n",
       "32  917245.60        2021.0       8.0  4GB              64GB        64   \n",
       "33     110.00        2021.0       8.0  4GB              64GB        26   \n",
       "34     220.66        2021.0       8.0  8GB             128GB       198   \n",
       "\n",
       "   view_count  \n",
       "4         871  \n",
       "29          1  \n",
       "32          1  \n",
       "33          1  \n",
       "34          2  \n",
       "\n",
       "[5 rows x 27 columns]"
      ]
     },
     "execution_count": 25,
     "metadata": {},
     "output_type": "execute_result"
    }
   ],
   "source": [
    "df_clean = df.dropna(subset=['weight', 'price'])\n",
    "df_clean.head()"
   ]
  },
  {
   "cell_type": "code",
   "execution_count": 26,
   "id": "535ca6e7-cac3-4f1c-b300-f6678c26606c",
   "metadata": {},
   "outputs": [],
   "source": [
    "from scipy.stats import linregress"
   ]
  },
  {
   "cell_type": "code",
   "execution_count": 27,
   "id": "eaf10049-73c7-42ac-92bd-bfc5d2660c75",
   "metadata": {},
   "outputs": [
    {
     "name": "stdout",
     "output_type": "stream",
     "text": [
      "Slope (Coefficient): 27.81554451668043\n",
      "Intercept: 5131.389992042114\n",
      "R-squared: 0.000944722277267647\n",
      "P-value: 0.046260815693868265\n"
     ]
    }
   ],
   "source": [
    "weight = df_clean['weight']\n",
    "price = df_clean['price']\n",
    "\n",
    "slope, intercept, r_value, p_value, std_err = linregress(weight, price)\n",
    "print(f\"Slope (Coefficient): {slope}\")\n",
    "print(f\"Intercept: {intercept}\")\n",
    "print(f\"R-squared: {r_value**2}\")\n",
    "print(f\"P-value: {p_value}\")"
   ]
  },
  {
   "cell_type": "markdown",
   "id": "b1fad42d-66dc-4a56-a6f1-88af78681941",
   "metadata": {},
   "source": [
    "##### Slope Value  \n",
    "for each additional unit of weight, \n",
    "The price of the mobile device increases by about 27.82 units.This indicates a positive relationship between weight and price.\n",
    "##### Intercept\n",
    "No meaning! cause weight of 0 for a phone is not practically feasible in this context.\n",
    "##### R-squared\n",
    "Is closed to 0 so this means that weight, on its own, is not a good predictor of price for mobile devices in this dataset. There are likely other factors that have a much stronger influence on the price.\n",
    "##### P-value\n",
    "It's below the alpha=0.05 thus this suggests that there is a statistically significant relationship between weight and price."
   ]
  },
  {
   "cell_type": "markdown",
   "id": "25dde8cb-c4da-4cbf-8485-b8b61e7aa082",
   "metadata": {},
   "source": [
    "### Second Question"
   ]
  },
  {
   "cell_type": "markdown",
   "id": "75bf7f44-f561-4353-995c-2f34b778b84c",
   "metadata": {},
   "source": [
    "#### Null Hypothesis (H0): There is no difference in the mean PPI density between large and small mobile devices.\n",
    "#### Alternative Hypothesis (H1): There is a difference in the mean PPI density between large and small mobile devices."
   ]
  },
  {
   "cell_type": "code",
   "execution_count": 9,
   "id": "d53a729c-525d-4993-bb2c-72135200d720",
   "metadata": {},
   "outputs": [],
   "source": [
    "df['size_category'] = df['screen_size'].apply(lambda x: 'large' if x >= 7.00 else 'small')"
   ]
  },
  {
   "cell_type": "code",
   "execution_count": 10,
   "id": "bae462f7-321d-4e8c-a7a4-3abbae43cd9f",
   "metadata": {},
   "outputs": [],
   "source": [
    "from scipy.stats import ttest_ind"
   ]
  },
  {
   "cell_type": "code",
   "execution_count": 16,
   "id": "e2381813-9a0f-47c9-92f3-22f4ce089478",
   "metadata": {
    "scrolled": true
   },
   "outputs": [],
   "source": [
    "large_devices = df[df['size_category'] == 'large']['ppi'].dropna()\n",
    "small_devices = df[df['size_category'] == 'small']['ppi'].dropna()\n"
   ]
  },
  {
   "cell_type": "code",
   "execution_count": 17,
   "id": "529568f3-c930-4750-8440-be76f125c351",
   "metadata": {},
   "outputs": [
    {
     "name": "stdout",
     "output_type": "stream",
     "text": [
      "T-statistic: -7.852605710294054, P-value: 4.893430093041532e-15\n"
     ]
    }
   ],
   "source": [
    "t_stat, p_value = ttest_ind(large_devices, small_devices)\n",
    "print(f\"T-statistic: {t_stat}, P-value: {p_value}\")\n"
   ]
  },
  {
   "cell_type": "markdown",
   "id": "12f5a431-018e-4e3a-a8dc-c9940c2865c5",
   "metadata": {},
   "source": [
    "##### T-statistics\n",
    "Indicates significant difference between the mean PPI densities of large and small mobile devices\n",
    "##### P-value\n",
    "It's below the alpha=0.05 and extremely small thus this suggests that null hypothesis is not true.\n",
    "The results strongly suggest that there is a statistically significant difference in PPI density between the two groups, with small devices likely having higher PPI densities compared to larger ones."
   ]
  },
  {
   "cell_type": "markdown",
   "id": "029e6868-7870-4c28-a6d6-085f3789560a",
   "metadata": {},
   "source": [
    "### Third Question"
   ]
  },
  {
   "cell_type": "markdown",
   "id": "357e2624-b9ed-497a-b5d9-6f028ea45f2f",
   "metadata": {},
   "source": [
    "#### Null Hypothesis (H0): There is no difference in the mean weight of Android and iOS mobile devices.\n",
    "#### Alternative Hypothesis (H1): There is a difference in the mean weight of Android and iOS mobile devices."
   ]
  },
  {
   "cell_type": "code",
   "execution_count": 18,
   "id": "86cfc44e-da89-46ce-96e7-14fef3f7a3e8",
   "metadata": {},
   "outputs": [],
   "source": [
    "android_weights = df[df['os_type'] == 'Android']['weight'].dropna()\n",
    "ios_weights = df[df['os_type'] == 'iOS']['weight'].dropna()"
   ]
  },
  {
   "cell_type": "code",
   "execution_count": 22,
   "id": "7081c6dd-f859-4121-bd79-cf2be73a7175",
   "metadata": {},
   "outputs": [
    {
     "name": "stdout",
     "output_type": "stream",
     "text": [
      "T-statistic: -8.27257493916851, P-value: 1.8867397072458762e-16\n"
     ]
    }
   ],
   "source": [
    "t_stat, p_value = ttest_ind(android_weights, ios_weights)\n",
    "print(f\"T-statistic: {t_stat}, P-value: {p_value}\")"
   ]
  },
  {
   "cell_type": "markdown",
   "id": "befc5f23-1ec9-4ac8-9cd8-7a298c32c3e3",
   "metadata": {},
   "source": [
    "##### T-statistics\n",
    "The magnitude of the T-statistic reflects a substantial difference between the two groups.\n",
    "##### P-value\n",
    "It's below the alpha=0.05 and extremely small thus this suggests that null hypothesis is not true."
   ]
  },
  {
   "cell_type": "markdown",
   "id": "8ea77092-e916-4e55-ba23-35cefd3c7005",
   "metadata": {},
   "source": [
    "### Fourth Question"
   ]
  },
  {
   "cell_type": "markdown",
   "id": "6e511980-fdbf-4f4f-bf99-c54344ebed49",
   "metadata": {},
   "source": [
    "#### Null Hypothesis (H0): The mean battery capacity per hour is the same across the different combinations of screen size classes and brands (Apple, Samsung, Xiaomi).\n",
    "#### Alternative Hypothesis (H1): At least one group's mean battery capacity per hour differs from the others."
   ]
  },
  {
   "cell_type": "code",
   "execution_count": 26,
   "id": "afb1fbbd-d301-4ae5-90d3-6f400b55b6e9",
   "metadata": {},
   "outputs": [
    {
     "data": {
      "text/plain": [
       "0       small\n",
       "1       small\n",
       "2       small\n",
       "3       small\n",
       "4       small\n",
       "        ...  \n",
       "5704    small\n",
       "5705    small\n",
       "5706    small\n",
       "5707    small\n",
       "5708    small\n",
       "Name: screen_size_class, Length: 5709, dtype: object"
      ]
     },
     "execution_count": 26,
     "metadata": {},
     "output_type": "execute_result"
    }
   ],
   "source": [
    "screen_size_threshold = 7.00\n",
    "df['screen_size_class'] = df['screen_size'].apply(lambda x: 'large' if x >= screen_size_threshold else 'small')\n",
    "df['screen_size_class']"
   ]
  },
  {
   "cell_type": "code",
   "execution_count": 33,
   "id": "1c04374c-2e42-405b-8133-756db2e01105",
   "metadata": {},
   "outputs": [
    {
     "data": {
      "text/html": [
       "<div>\n",
       "<style scoped>\n",
       "    .dataframe tbody tr th:only-of-type {\n",
       "        vertical-align: middle;\n",
       "    }\n",
       "\n",
       "    .dataframe tbody tr th {\n",
       "        vertical-align: top;\n",
       "    }\n",
       "\n",
       "    .dataframe thead th {\n",
       "        text-align: right;\n",
       "    }\n",
       "</style>\n",
       "<table border=\"1\" class=\"dataframe\">\n",
       "  <thead>\n",
       "    <tr style=\"text-align: right;\">\n",
       "      <th></th>\n",
       "      <th>id</th>\n",
       "      <th>brand</th>\n",
       "      <th>name</th>\n",
       "      <th>type</th>\n",
       "      <th>network_technology</th>\n",
       "      <th>length</th>\n",
       "      <th>width</th>\n",
       "      <th>height</th>\n",
       "      <th>weight</th>\n",
       "      <th>resolution_l</th>\n",
       "      <th>...</th>\n",
       "      <th>os_version</th>\n",
       "      <th>price</th>\n",
       "      <th>released_date</th>\n",
       "      <th>cpu_core</th>\n",
       "      <th>ram</th>\n",
       "      <th>internal_storage</th>\n",
       "      <th>fan_count</th>\n",
       "      <th>view_count</th>\n",
       "      <th>size_category</th>\n",
       "      <th>screen_size_class</th>\n",
       "    </tr>\n",
       "  </thead>\n",
       "  <tbody>\n",
       "    <tr>\n",
       "      <th>534</th>\n",
       "      <td>535</td>\n",
       "      <td>APPLE</td>\n",
       "      <td>Apple iPad mini Wi-Fi</td>\n",
       "      <td>tablet</td>\n",
       "      <td>2G</td>\n",
       "      <td>200.0</td>\n",
       "      <td>134.7</td>\n",
       "      <td>7.2</td>\n",
       "      <td>308.0</td>\n",
       "      <td>768.0</td>\n",
       "      <td>...</td>\n",
       "      <td>6</td>\n",
       "      <td>200.0</td>\n",
       "      <td>2012.0</td>\n",
       "      <td>8.0</td>\n",
       "      <td>NaN</td>\n",
       "      <td>NaN</td>\n",
       "      <td>221</td>\n",
       "      <td>5</td>\n",
       "      <td>large</td>\n",
       "      <td>large</td>\n",
       "    </tr>\n",
       "    <tr>\n",
       "      <th>535</th>\n",
       "      <td>536</td>\n",
       "      <td>APPLE</td>\n",
       "      <td>Apple iPad mini Wi-Fi + Cellular</td>\n",
       "      <td>tablet</td>\n",
       "      <td>4G</td>\n",
       "      <td>200.0</td>\n",
       "      <td>134.7</td>\n",
       "      <td>7.2</td>\n",
       "      <td>312.0</td>\n",
       "      <td>768.0</td>\n",
       "      <td>...</td>\n",
       "      <td>6</td>\n",
       "      <td>300.0</td>\n",
       "      <td>2012.0</td>\n",
       "      <td>8.0</td>\n",
       "      <td>NaN</td>\n",
       "      <td>NaN</td>\n",
       "      <td>150</td>\n",
       "      <td>5</td>\n",
       "      <td>large</td>\n",
       "      <td>large</td>\n",
       "    </tr>\n",
       "    <tr>\n",
       "      <th>536</th>\n",
       "      <td>537</td>\n",
       "      <td>APPLE</td>\n",
       "      <td>Apple iPad 4 Wi-Fi</td>\n",
       "      <td>tablet</td>\n",
       "      <td>2G</td>\n",
       "      <td>241.2</td>\n",
       "      <td>185.7</td>\n",
       "      <td>9.4</td>\n",
       "      <td>652.0</td>\n",
       "      <td>1536.0</td>\n",
       "      <td>...</td>\n",
       "      <td>6</td>\n",
       "      <td>350.0</td>\n",
       "      <td>2012.0</td>\n",
       "      <td>8.0</td>\n",
       "      <td>1GB</td>\n",
       "      <td>16GB</td>\n",
       "      <td>162</td>\n",
       "      <td>2</td>\n",
       "      <td>large</td>\n",
       "      <td>large</td>\n",
       "    </tr>\n",
       "    <tr>\n",
       "      <th>537</th>\n",
       "      <td>538</td>\n",
       "      <td>APPLE</td>\n",
       "      <td>Apple iPad 4 Wi-Fi + Cellular</td>\n",
       "      <td>tablet</td>\n",
       "      <td>4G</td>\n",
       "      <td>241.2</td>\n",
       "      <td>185.7</td>\n",
       "      <td>9.4</td>\n",
       "      <td>662.0</td>\n",
       "      <td>1536.0</td>\n",
       "      <td>...</td>\n",
       "      <td>6</td>\n",
       "      <td>500.0</td>\n",
       "      <td>2012.0</td>\n",
       "      <td>8.0</td>\n",
       "      <td>1GB</td>\n",
       "      <td>16GB</td>\n",
       "      <td>180</td>\n",
       "      <td>5</td>\n",
       "      <td>large</td>\n",
       "      <td>large</td>\n",
       "    </tr>\n",
       "    <tr>\n",
       "      <th>538</th>\n",
       "      <td>539</td>\n",
       "      <td>APPLE</td>\n",
       "      <td>Apple iPhone 5</td>\n",
       "      <td>phone</td>\n",
       "      <td>4G</td>\n",
       "      <td>123.8</td>\n",
       "      <td>58.6</td>\n",
       "      <td>7.6</td>\n",
       "      <td>112.0</td>\n",
       "      <td>640.0</td>\n",
       "      <td>...</td>\n",
       "      <td>6</td>\n",
       "      <td>340.0</td>\n",
       "      <td>2012.0</td>\n",
       "      <td>8.0</td>\n",
       "      <td>1GB</td>\n",
       "      <td>16GB</td>\n",
       "      <td>1973</td>\n",
       "      <td>56</td>\n",
       "      <td>small</td>\n",
       "      <td>small</td>\n",
       "    </tr>\n",
       "  </tbody>\n",
       "</table>\n",
       "<p>5 rows × 29 columns</p>\n",
       "</div>"
      ],
      "text/plain": [
       "      id  brand                              name    type network_technology  \\\n",
       "534  535  APPLE             Apple iPad mini Wi-Fi  tablet                 2G   \n",
       "535  536  APPLE  Apple iPad mini Wi-Fi + Cellular  tablet                 4G   \n",
       "536  537  APPLE                Apple iPad 4 Wi-Fi  tablet                 2G   \n",
       "537  538  APPLE     Apple iPad 4 Wi-Fi + Cellular  tablet                 4G   \n",
       "538  539  APPLE                    Apple iPhone 5   phone                 4G   \n",
       "\n",
       "     length  width  height  weight  resolution_l  ...  os_version  price  \\\n",
       "534   200.0  134.7     7.2   308.0         768.0  ...           6  200.0   \n",
       "535   200.0  134.7     7.2   312.0         768.0  ...           6  300.0   \n",
       "536   241.2  185.7     9.4   652.0        1536.0  ...           6  350.0   \n",
       "537   241.2  185.7     9.4   662.0        1536.0  ...           6  500.0   \n",
       "538   123.8   58.6     7.6   112.0         640.0  ...           6  340.0   \n",
       "\n",
       "     released_date  cpu_core  ram  internal_storage fan_count  view_count  \\\n",
       "534         2012.0       8.0  NaN               NaN       221           5   \n",
       "535         2012.0       8.0  NaN               NaN       150           5   \n",
       "536         2012.0       8.0  1GB              16GB       162           2   \n",
       "537         2012.0       8.0  1GB              16GB       180           5   \n",
       "538         2012.0       8.0  1GB              16GB      1973          56   \n",
       "\n",
       "    size_category screen_size_class  \n",
       "534         large             large  \n",
       "535         large             large  \n",
       "536         large             large  \n",
       "537         large             large  \n",
       "538         small             small  \n",
       "\n",
       "[5 rows x 29 columns]"
      ]
     },
     "execution_count": 33,
     "metadata": {},
     "output_type": "execute_result"
    }
   ],
   "source": [
    "df_filtered = df[df['brand'].isin(['APPLE', 'SAMSUNG', 'XIAOMI'])]\n",
    "df_filtered.head()"
   ]
  },
  {
   "cell_type": "code",
   "execution_count": 34,
   "id": "9a6d681b-d71d-4986-a973-7d7a3134739f",
   "metadata": {},
   "outputs": [],
   "source": [
    "import statsmodels.api as sm\n",
    "from statsmodels.formula.api import ols"
   ]
  },
  {
   "cell_type": "code",
   "execution_count": 37,
   "id": "426a6b41-12d1-465b-a2ae-d96367b821f9",
   "metadata": {},
   "outputs": [],
   "source": [
    "model = ols('battery_capacity ~ C(screen_size_class) * C(brand)', data=df_filtered).fit()"
   ]
  },
  {
   "cell_type": "code",
   "execution_count": 39,
   "id": "df274d3b-7fb4-413a-8f15-c43658aef6c5",
   "metadata": {},
   "outputs": [
    {
     "name": "stdout",
     "output_type": "stream",
     "text": [
      "                                     sum_sq      df            F  \\\n",
      "C(screen_size_class)           2.985135e+09     1.0  1380.791455   \n",
      "C(brand)                       1.543471e+09     2.0   356.970718   \n",
      "C(screen_size_class):C(brand)  1.106721e+08     2.0    25.596002   \n",
      "Residual                       3.779004e+09  1748.0          NaN   \n",
      "\n",
      "                                      PR(>F)  \n",
      "C(screen_size_class)           3.019696e-223  \n",
      "C(brand)                       1.010376e-130  \n",
      "C(screen_size_class):C(brand)   1.105256e-11  \n",
      "Residual                                 NaN  \n"
     ]
    }
   ],
   "source": [
    "anova_results = sm.stats.anova_lm(model, typ=2)\n",
    "print(anova_results)"
   ]
  },
  {
   "cell_type": "markdown",
   "id": "1a179257-b2e5-405c-a4e9-da222a76fdcd",
   "metadata": {},
   "source": [
    "### Fifth Question"
   ]
  },
  {
   "cell_type": "markdown",
   "id": "d11f5cc1-c0a2-4c8f-aa72-3be85b22d174",
   "metadata": {},
   "source": [
    "#### Null Hypothesis (H0): There is no difference in the mean price of mobile devices between the different screen size classes (large vs. small).\n",
    "#### Alternative Hypothesis (H1): There is a difference in the mean price of mobile devices between the different screen size classes (large vs. small)."
   ]
  },
  {
   "cell_type": "code",
   "execution_count": 42,
   "id": "692ff371-da97-4ea0-aa7c-c3a2a9c0ec77",
   "metadata": {},
   "outputs": [
    {
     "name": "stdout",
     "output_type": "stream",
     "text": [
      "                            sum_sq      df         F    PR(>F)\n",
      "C(screen_size_class)  4.029644e+10     1.0  3.665762  0.055607\n",
      "Residual              4.794994e+13  4362.0       NaN       NaN\n"
     ]
    }
   ],
   "source": [
    "model = ols('price ~ C(screen_size_class)', data=df).fit()\n",
    "anova_results = sm.stats.anova_lm(model, typ=2)\n",
    "\n",
    "print(anova_results)"
   ]
  },
  {
   "cell_type": "markdown",
   "id": "11f62393-d6d8-4f1f-917e-adb97bedab06",
   "metadata": {},
   "source": [
    "The p-value of 0.055607 is just above the common significance level threshold of 0.05 so evidence is not strong enough to reject the null hypothesis."
   ]
  },
  {
   "cell_type": "markdown",
   "id": "4b364d2b-139b-4a81-adc3-6feb8488e8b0",
   "metadata": {},
   "source": [
    "### Sixth Question"
   ]
  },
  {
   "cell_type": "markdown",
   "id": "ee753529-7f8c-46d6-94ed-5abf8b93e779",
   "metadata": {},
   "source": [
    "#### Null Hypothesis (H0): The mean weight of large mobile devices is less than or equal to the mean weight of small mobile devices. \n",
    "#### Alternative Hypothesis (H1): The mean weight of large mobile devices is greater than the mean weight of small mobile devices. "
   ]
  },
  {
   "cell_type": "code",
   "execution_count": 43,
   "id": "19b34107-4644-4587-9454-da8abf91db6d",
   "metadata": {},
   "outputs": [],
   "source": [
    "large_weights = df[df['size_category'] == 'large']['weight'].dropna()\n",
    "small_weights = df[df['size_category'] == 'small']['weight'].dropna()"
   ]
  },
  {
   "cell_type": "code",
   "execution_count": 44,
   "id": "68e813cd-0319-4555-9c88-df71f526ead3",
   "metadata": {},
   "outputs": [
    {
     "name": "stdout",
     "output_type": "stream",
     "text": [
      "Evidence supports the alternative hypothesis with t-statistic = 40.88793412131005, one-sided p-value = 4.009929556855361e-159\n"
     ]
    }
   ],
   "source": [
    "t_stat, p_value_two_sided = ttest_ind(large_weights, small_weights, equal_var=False)\n",
    "\n",
    "p_value_one_sided = p_value_two_sided / 2\n",
    "\n",
    "if t_stat > 0 and p_value_one_sided < 0.05:\n",
    "    print(f\"Evidence supports the alternative hypothesis with t-statistic = {t_stat}, one-sided p-value = {p_value_one_sided}\")\n",
    "else:\n",
    "    print(f\"No evidence to support the alternative hypothesis with t-statistic = {t_stat}, one-sided p-value = {p_value_one_sided}\")"
   ]
  },
  {
   "cell_type": "markdown",
   "id": "e7d855b1-8c2c-48f3-8960-97e0024dc821",
   "metadata": {},
   "source": [
    "With a p-value far below any conventional significance level (e.g., 0.05, 0.01), we can confidently reject the null hypothesis"
   ]
  },
  {
   "cell_type": "code",
   "execution_count": null,
   "id": "5a2aee0f-a78e-4238-82c5-98ee4cbba520",
   "metadata": {},
   "outputs": [],
   "source": []
  }
 ],
 "metadata": {
  "kernelspec": {
   "display_name": "Python 3 (ipykernel)",
   "language": "python",
   "name": "python3"
  },
  "language_info": {
   "codemirror_mode": {
    "name": "ipython",
    "version": 3
   },
   "file_extension": ".py",
   "mimetype": "text/x-python",
   "name": "python",
   "nbconvert_exporter": "python",
   "pygments_lexer": "ipython3",
   "version": "3.10.13"
  }
 },
 "nbformat": 4,
 "nbformat_minor": 5
}
